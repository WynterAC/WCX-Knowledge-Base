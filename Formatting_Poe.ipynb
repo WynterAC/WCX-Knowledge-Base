{
  "cells": [
    {
      "cell_type": "markdown",
      "metadata": {
        "id": "view-in-github",
        "colab_type": "text"
      },
      "source": [
        "<a href=\"https://colab.research.google.com/github/WynterAC/WCX-Knowledge-Base/blob/master/Formatting_Poe.ipynb\" target=\"_parent\"><img src=\"https://colab.research.google.com/assets/colab-badge.svg\" alt=\"Open In Colab\"/></a>"
      ]
    },
    {
      "cell_type": "markdown",
      "source": [
        "# Instructions"
      ],
      "metadata": {
        "id": "NkK6lWsKfuZn"
      }
    },
    {
      "cell_type": "markdown",
      "metadata": {
        "id": "u22w3BFiOveA"
      },
      "source": [
        "## Open files from Google Drive\n",
        "\n",
        "The example below shows how to mount your Google Drive in your virtual machine using an authorization code."
      ]
    },
    {
      "cell_type": "code",
      "execution_count": null,
      "metadata": {
        "id": "7-JR7WQ5O70X"
      },
      "outputs": [],
      "source": [
        "from google.colab import drive\n",
        "drive.mount('/gdrive')\n",
        "%cd /gdrive"
      ]
    },
    {
      "cell_type": "markdown",
      "metadata": {
        "id": "l0XHG5qVLxh5"
      },
      "source": [
        "## Open files from GitHub\n",
        "\n",
        "To open a file from GitHub, you can clone the repo or fetch the file directly.\n",
        "\n",
        "\n",
        "If you are trying to access files from a private repo, you must use a [GitHub access token](https://help.github.com/en/articles/creating-a-personal-access-token-for-the-command-line)."
      ]
    },
    {
      "cell_type": "code",
      "execution_count": null,
      "metadata": {
        "id": "ldus40iKMIru"
      },
      "outputs": [],
      "source": [
        "# Clone the entire repo.\n",
        "!git clone -l -s git://github.com/jakevdp/PythonDataScienceHandbook.git cloned-repo\n",
        "%cd cloned-repo\n",
        "!ls"
      ]
    },
    {
      "cell_type": "code",
      "execution_count": null,
      "metadata": {
        "id": "Zg2cF_2-gI67"
      },
      "outputs": [],
      "source": [
        "# Fetch a single <1MB file using the raw GitHub URL.\n",
        "!curl --remote-name \\\n",
        "     -H 'Accept: application/vnd.github.v3.raw' \\\n",
        "     --location https://api.github.com/repos/jakevdp/PythonDataScienceHandbook/contents/notebooks/data/california_cities.csv"
      ]
    },
    {
      "cell_type": "markdown",
      "metadata": {
        "id": "BaCkyg5CV5jF"
      },
      "source": [
        "## Open files from your local file system\n",
        "\n",
        "`files.upload` returns a dictionary of the files which were uploaded.\n",
        "The dictionary is keyed by the file name, the value is the data which was uploaded."
      ]
    },
    {
      "cell_type": "code",
      "execution_count": null,
      "metadata": {
        "id": "vz-jH8T_Uk2c"
      },
      "outputs": [],
      "source": [
        "from google.colab import files\n",
        "\n",
        "uploaded = files.upload()\n",
        "\n",
        "for fn in uploaded.keys():\n",
        "  print('User uploaded file \"{name}\" with length {length} bytes'.format(\n",
        "      name=fn, length=len(uploaded[fn])))"
      ]
    },
    {
      "cell_type": "markdown",
      "metadata": {
        "id": "Q2CWQGIghDux"
      },
      "source": [
        "## Open files from GCS with gsutil\n",
        "\n",
        "- Use the [Cloud Resource Manager](https://cloud.google.com/resource-manager/) to create a project if you do not already have one.\n",
        "- [Enable billing](https://support.google.com/cloud/answer/6293499#enable-billing) for the project.\n",
        "- See [Google Cloud Storage (GCS) Documentation](https://cloud.google.com/storage/) for more info.\n"
      ]
    },
    {
      "cell_type": "code",
      "execution_count": null,
      "metadata": {
        "id": "btwrSjoHT_mb"
      },
      "outputs": [],
      "source": [
        "from google.colab import auth\n",
        "auth.authenticate_user()\n",
        "\n",
        "# https://cloud.google.com/resource-manager/docs/creating-managing-projects\n",
        "project_id = '[your Cloud Platform project ID]'\n",
        "!gcloud config set project {project_id}"
      ]
    },
    {
      "cell_type": "code",
      "execution_count": null,
      "metadata": {
        "id": "lPdTf-6O73ll"
      },
      "outputs": [],
      "source": [
        "# Download the file from a given Google Cloud Storage bucket.\n",
        "!gsutil cp gs://{bucket_name}/file_to_download.txt /tmp/gsutil_download.txt\n",
        "\n",
        "# Print the result to make sure the transfer worked.\n",
        "!cat /tmp/gsutil_download.txt"
      ]
    },
    {
      "cell_type": "markdown",
      "metadata": {
        "id": "s6nDq8Nk7aPN"
      },
      "source": [
        "### Open files from GCS with the Cloud Storage Python API\n",
        "\n",
        "- Use the [Cloud Resource Manager](https://cloud.google.com/resource-manager/) to create a project if you do not already have one.\n",
        "- [Enable billing](https://support.google.com/cloud/answer/6293499#enable-billing) for the project.\n",
        "- See [Google Cloud Storage (GCS) Documentation](https://cloud.google.com/storage/) for more info.\n",
        "\n",
        "You can also use [gsutil](https://cloud.google.com/storage/docs/gsutil) to interact with [Google Cloud Storage (GCS)](https://cloud.google.com/storage/).\n",
        "This snippet is based on [a larger example](https://github.com/GoogleCloudPlatform/storage-file-transfer-json-python/blob/master/chunked_transfer.py)."
      ]
    },
    {
      "cell_type": "code",
      "execution_count": null,
      "metadata": {
        "id": "z1_FuDjAozF1"
      },
      "outputs": [],
      "source": [
        "# Authenticate to GCS.\n",
        "from google.colab import auth\n",
        "auth.authenticate_user()\n",
        "\n",
        "# https://cloud.google.com/resource-manager/docs/creating-managing-projects\n",
        "project_id = '[your Cloud Platform project ID]'\n",
        "\n",
        "# Create the service client.\n",
        "from googleapiclient.discovery import build\n",
        "gcs_service = build('storage', 'v1')\n",
        "\n",
        "from apiclient.http import MediaIoBaseDownload\n",
        "\n",
        "with open('/tmp/gsutil_download.txt', 'wb') as f:\n",
        "  # Download the file from a given Google Cloud Storage bucket.\n",
        "  request = gcs_service.objects().get_media(bucket=bucket_name,\n",
        "                                            object='to_upload.txt')\n",
        "  media = MediaIoBaseDownload(f, request)\n",
        "\n",
        "  done = False\n",
        "  while not done:\n",
        "    # _ is a placeholder for a progress object that we ignore.\n",
        "    # (Our file is small, so we skip reporting progress.)\n",
        "    _, done = media.next_chunk()\n",
        "\n",
        "print('Download complete')"
      ]
    },
    {
      "cell_type": "code",
      "execution_count": null,
      "metadata": {
        "id": "DxLyhaiBpAGX"
      },
      "outputs": [],
      "source": [
        "# Inspect the file we downloaded to /tmp\n",
        "!cat /tmp/downloaded_from_gcs.txt"
      ]
    },
    {
      "cell_type": "markdown",
      "source": [
        "# Python Code\n"
      ],
      "metadata": {
        "id": "XnlvqpjIgPDe"
      }
    },
    {
      "cell_type": "code",
      "source": [
        "import re\n",
        "\n",
        "def convert_html_to_markdown(html_file_path):\n",
        "    with open(html_file_path, 'r') as file:\n",
        "        html_content = file.read()\n",
        "\n",
        "    # Define regex patterns to match message bubbles\n",
        "    human_message_pattern = r'<div class=\"Message_humanMessageBubble__DtRxA\">.*?<div class=\"Markdown_markdownContainer__Tz3HQ\">(.*?)</div>'\n",
        "    bot_message_pattern = r'<div class=\"Message_botMessageBubble__aYctV\">.*?<div class=\"Markdown_markdownContainer__Tz3HQ\">(.*?)</div>'\n",
        "\n",
        "    # Extract human and bot messages using regex\n",
        "    human_messages = re.findall(human_message_pattern, html_content, flags=re.DOTALL)\n",
        "    bot_messages = re.findall(bot_message_pattern, html_content, flags=re.DOTALL)\n",
        "\n",
        "    # Combine human and bot messages\n",
        "    messages = human_messages + bot_messages\n",
        "\n",
        "    markdown = \"\"\n",
        "    for message in messages:\n",
        "        # Remove HTML tags and leading/trailing whitespace\n",
        "        message_text = re.sub(r'<[^>]*>', '', message).strip()\n",
        "        markdown += message_text + \"\\n\\n\"\n",
        "\n",
        "    return markdown\n",
        "\n",
        "# Path to your HTML file\n",
        "html_file_path = '/content/Poe - Improve GPA….html'\n",
        "\n",
        "markdown_content = convert_html_to_markdown(html_file_path)\n",
        "print(markdown_content)\n"
      ],
      "metadata": {
        "id": "WNNxXHQ5gMrY",
        "outputId": "483e2adb-8d7c-457a-8551-61da7241951f",
        "colab": {
          "base_uri": "https://localhost:8080/"
        }
      },
      "execution_count": null,
      "outputs": [
        {
          "output_type": "stream",
          "name": "stdout",
          "text": [
            "I only have a 2.7 Undergraduate GPA (I’m Canadian studied in a Canadian university). How to amend my gpa\n",
            "\n",
            "Can you provide more information on post-baccalaureate programs and how they can help improve my GPA?\n",
            "\n",
            "Can you provide examples of specific post-baccalaureate programs in the field of medicine?\n",
            "\n",
            "Anything specific to neuroscience\n",
            "\n",
            "What if I’m not a US citizen.\n",
            "\n",
            "Tell me more about similar programs in canada. Or ways of increase admission chances given a below 3.0GPA for undergraduate\n",
            "\n",
            "1. Graduate School:\n",
            "\n",
            "Consider pursuing a graduate degree (Master's or PhD) in a related field. Graduate schools often have higher GPA requirements, but they also offer opportunities to demonstrate your academic abilities and improve your overall GPA.\n",
            "\n",
            "2. Post-Baccalaureate Programs:\n",
            "\n",
            "Enroll in a post-baccalaureate program specifically designed to prepare students for graduate school or professional programs. These programs typically offer rigorous coursework and can help you raise your GPA.\n",
            "\n",
            "3. Part-Time Studies:\n",
            "\n",
            "Take additional undergraduate courses part-time at your university or another institution. This allows you to improve your GPA gradually while balancing other commitments.\n",
            "\n",
            "4. Retake Courses:\n",
            "\n",
            "Identify specific courses where you received a low grade and consider retaking them. This can help you replace the original grade with a higher one, improving your overall GPA.\n",
            "\n",
            "5. Extracurricular Activities:\n",
            "\n",
            "Participate in extracurricular activities that demonstrate your leadership, teamwork, and problem-solving skills. These activities can supplement your academic record and show potential employers or graduate schools that you are a well-rounded individual.\n",
            "\n",
            "6. Research and Publications:\n",
            "\n",
            "Engage in research projects or publish articles in academic journals. This can demonstrate your intellectual curiosity, analytical abilities, and commitment to your field.\n",
            "\n",
            "7. Work Experience:\n",
            "\n",
            "Gain relevant work experience in your field. This can provide you with practical knowledge and skills that are valued by employers and graduate schools, even if your GPA is lower than the typical requirement.\n",
            "\n",
            "8. Explain Your Circumstances:\n",
            "\n",
            "If there were extenuating circumstances that affected your undergraduate GPA, consider writing a personal statement or letter of explanation to potential employers or graduate schools. This can help them understand your situation and evaluate your application more holistically.\n",
            "\n",
            "Additional Tips:\n",
            "\n",
            "Seek academic advising to develop a plan for improving your GPA.\n",
            "Utilize tutoring and other academic support services.\n",
            "Set realistic goals and track your progress.\n",
            "Stay motivated and don't give up. Remember that there are many ways to demonstrate your academic abilities and potential.\n",
            "\n",
            "Post-Baccalaureate Programs\n",
            "Post-baccalaureate programs are designed for students who have already completed a bachelor's degree but wish to further their education or prepare for a different career path. These programs typically offer rigorous coursework and can help students improve their GPA, gain specialized knowledge, and enhance their competitiveness for graduate school or professional programs.\n",
            "Types of Post-Baccalaureate Programs:\n",
            "\n",
            "Pre-Health Programs: Prepare students for careers in medicine, dentistry, pharmacy, and other health professions.\n",
            "Pre-Law Programs: Prepare students for law school and careers in law.\n",
            "Pre-Business Programs: Prepare students for business school and careers in business and finance.\n",
            "Pre-Engineering Programs: Prepare students for engineering school and careers in engineering.\n",
            "Liberal Arts Programs: Offer a broad range of coursework in the humanities, social sciences, and natural sciences.\n",
            "\n",
            "Benefits of Post-Baccalaureate Programs:\n",
            "\n",
            "Improve GPA: Post-baccalaureate programs typically offer challenging coursework that can help students raise their overall GPA.\n",
            "Gain Specialized Knowledge: Students can focus on specific areas of interest and develop specialized knowledge and skills.\n",
            "Enhance Competitiveness: Completing a post-baccalaureate program can demonstrate a student's commitment to their field and make them more competitive for graduate school or professional programs.\n",
            "Career Advancement: Post-baccalaureate programs can provide students with the necessary qualifications for career advancement or a career change.\n",
            "\n",
            "How to Choose a Post-Baccalaureate Program:\n",
            "\n",
            "Consider your career goals and the specific requirements for the graduate school or professional program you wish to pursue.\n",
            "Research different programs and compare their curriculum, faculty, and reputation.\n",
            "Contact the program director or admissions office to discuss your goals and qualifications.\n",
            "\n",
            "Tips for Success in Post-Baccalaureate Programs:\n",
            "\n",
            "Set realistic goals and develop a study plan.\n",
            "Utilize academic support services such as tutoring and writing centers.\n",
            "Seek out opportunities for research and practical experience.\n",
            "Network with professors and other students.\n",
            "Stay motivated and don't give up.\n",
            "\n",
            "Note: Admission to post-baccalaureate programs is typically competitive, and applicants may need to meet certain GPA requirements or have a strong academic record.\n",
            "\n",
            "Pre-Health Post-Baccalaureate Programs in Medicine:\n",
            "\n",
            "Boston University School of Medicine Post-Baccalaureate Pre-Medical Program\n",
            "Columbia University Post-Baccalaureate Pre-Health Program\n",
            "Johns Hopkins University Pre-Professional Scholars Program\n",
            "Loyola University Chicago Stritch School of Medicine Post-Baccalaureate Pre-Medicine Program\n",
            "Northeastern University Pre-Health Professions Post-Baccalaureate Certificate Program\n",
            "Northwestern University Feinberg School of Medicine Post-Baccalaureate Pre-Professional Program\n",
            "Pennsylvania State University College of Medicine Post-Baccalaureate Pre-Medical Program\n",
            "Rice University Pre-Health Professions Post-Baccalaureate Program\n",
            "Rutgers University Robert Wood Johnson Medical School Post-Baccalaureate Pre-Medical Program\n",
            "Tulane University School of Medicine Post-Baccalaureate Pre-Professional Program\n",
            "University of California, Berkeley Pre-Health Post-Baccalaureate Program\n",
            "University of Michigan Pre-Health Professions Scholars Program\n",
            "University of Pennsylvania Post-Baccalaureate Pre-Health Program\n",
            "Yale University Post-Baccalaureate Premedical Program\n",
            "\n",
            "These programs typically offer coursework in the sciences (biology, chemistry, physics, etc.), mathematics, and humanities. They may also provide opportunities for research, clinical experience, and mentorship.\n",
            "Admission to these programs is competitive, and applicants typically need to have a strong academic record, including a high GPA and standardized test scores.\n",
            "\n",
            "Pre-Neuroscience Post-Baccalaureate Programs:\n",
            "\n",
            "Boston University College of Arts &amp; Sciences Post-Baccalaureate Pre-Neuroscience Program\n",
            "Brandeis University Post-Baccalaureate Pre-Neuroscience Program\n",
            "Columbia University Post-Baccalaureate Pre-Health Program (with a Neuroscience Concentration)\n",
            "Emory University Neuroscience Scholars Program\n",
            "Johns Hopkins University Pre-Professional Scholars Program (with a Neuroscience Concentration)\n",
            "Northeastern University Pre-Health Professions Post-Baccalaureate Certificate Program (with a Neuroscience Concentration)\n",
            "Northwestern University Feinberg School of Medicine Post-Baccalaureate Pre-Professional Program (with a Neuroscience Concentration)\n",
            "Pennsylvania State University College of Medicine Post-Baccalaureate Pre-Medical Program (with a Neuroscience Concentration)\n",
            "Rutgers University Robert Wood Johnson Medical School Post-Baccalaureate Pre-Medical Program (with a Neuroscience Concentration)\n",
            "Tufts University Post-Baccalaureate Pre-Health Program (with a Neuroscience Concentration)\n",
            "University of California, Berkeley Pre-Health Post-Baccalaureate Program (with a Neuroscience Concentration)\n",
            "University of Pennsylvania Post-Baccalaureate Pre-Health Program (with a Neuroscience Concentration)\n",
            "Yale University Post-Baccalaureate Premedical Program (with a Neuroscience Concentration)\n",
            "\n",
            "These programs typically offer coursework in neuroscience, biology, chemistry, physics, and mathematics. They may also provide opportunities for research, clinical experience, and mentorship.\n",
            "Admission to these programs is competitive, and applicants typically need to have a strong academic record, including a high GPA and standardized test scores.\n",
            "\n",
            "Post-Baccalaureate Programs for International Students:\n",
            "Many post-baccalaureate programs in the US are open to international students. However, there may be additional requirements or considerations for international applicants, such as:\n",
            "\n",
            "English language proficiency: International students may need to demonstrate English language proficiency through standardized tests (e.g., TOEFL, IELTS) or other means.\n",
            "Visa requirements: International students may need to obtain a student visa (F-1 or J-1) to study in the US.\n",
            "Financial support: International students may need to provide proof of financial support to cover the cost of tuition and living expenses.\n",
            "\n",
            "Here are some post-baccalaureate programs that are specifically designed for international students:\n",
            "\n",
            "Boston University International Scholars Program\n",
            "Columbia University Post-Baccalaureate Pre-Health Program for International Students\n",
            "Johns Hopkins University Pre-Professional Scholars Program for International Students\n",
            "Northeastern University Pre-Health Professions Post-Baccalaureate Certificate Program for International Students\n",
            "Northwestern University Feinberg School of Medicine Post-Baccalaureate Pre-Professional Program for International Students\n",
            "Pennsylvania State University College of Medicine Post-Baccalaureate Pre-Medical Program for International Students\n",
            "Rutgers University Robert Wood Johnson Medical School Post-Baccalaureate Pre-Medical Program for International Students\n",
            "Tufts University Post-Baccalaureate Pre-Health Program for International Students\n",
            "University of California, Berkeley Pre-Health Post-Baccalaureate Program for International Students\n",
            "University of Pennsylvania Post-Baccalaureate Pre-Health Program for International Students\n",
            "Yale University Post-Baccalaureate Premedical Program for International Students\n",
            "\n",
            "Tips for International Students Applying to Post-Baccalaureate Programs:\n",
            "\n",
            "Research different programs and their requirements for international students.\n",
            "Contact the program director or admissions office to discuss your goals and qualifications.\n",
            "Start the application process early to allow time for visa processing and other necessary arrangements.\n",
            "Gather all required documents, including transcripts, standardized test scores, and proof of financial support.\n",
            "Be prepared to demonstrate your English language proficiency.\n",
            "Consider seeking support from international student services at your university or from organizations that support international students in the US.\n",
            "\n",
            "Post-Baccalaureate Programs in Canada:\n",
            "\n",
            "University of British Columbia Post-Baccalaureate Diploma in Health Sciences\n",
            "University of Calgary Post-Baccalaureate Diploma in Health Sciences\n",
            "University of Alberta Post-Baccalaureate Diploma in Health Sciences\n",
            "University of Saskatchewan Post-Baccalaureate Diploma in Health Sciences\n",
            "University of Manitoba Post-Baccalaureate Diploma in Health Sciences\n",
            "University of Toronto Post-Baccalaureate Diploma in Health Sciences\n",
            "Queen's University Post-Baccalaureate Diploma in Health Sciences\n",
            "Western University Post-Baccalaureate Diploma in Health Sciences\n",
            "McMaster University Post-Baccalaureate Diploma in Health Sciences\n",
            "University of Ottawa Post-Baccalaureate Diploma in Health Sciences\n",
            "\n",
            "These programs are typically one-year programs that provide students with the necessary academic foundation to pursue further studies in medicine, dentistry, pharmacy, or other health professions.\n",
            "Ways to Increase Admission Chances with a Below 3.0 GPA:\n",
            "\n",
            "Complete a post-baccalaureate program: As mentioned above, post-baccalaureate programs can help students improve their GPA and demonstrate their commitment to their field.\n",
            "Retake undergraduate courses: If possible, retake courses in which you received a low grade to improve your overall GPA.\n",
            "Gain relevant work experience: Working in a healthcare setting or conducting research can demonstrate your interest and abilities in the field.\n",
            "Volunteer: Volunteering in a healthcare setting can also show your commitment to helping others and your interest in the field.\n",
            "Write a strong personal statement: In your personal statement, explain your reasons for pursuing a career in medicine and how your experiences have prepared you for the challenges of medical school.\n",
            "Get strong letters of recommendation: Ask professors, supervisors, or mentors who can attest to your academic abilities, work ethic, and character to write letters of recommendation for you.\n",
            "Consider applying to less competitive medical schools: There are a number of medical schools in Canada that have lower GPA requirements. Research different schools and their admission criteria to find ones that may be a good fit for you.\n",
            "\n",
            "Additional Tips:\n",
            "\n",
            "Seek academic advising to develop a plan for improving your GPA and preparing for medical school.\n",
            "Utilize academic support services such as tutoring and writing centers.\n",
            "Join pre-health clubs or organizations to connect with other students and learn about opportunities in the field.\n",
            "Stay motivated and don't give up. Remember that there are many ways to demonstrate your academic abilities and potential.\n",
            "\n",
            "\n"
          ]
        }
      ]
    },
    {
      "cell_type": "code",
      "source": [
        "from google.colab import drive\n",
        "drive.mount('/content/drive')"
      ],
      "metadata": {
        "id": "FdK8m66ngfQy",
        "outputId": "5d9847d8-cee1-41f9-b78e-26806cd03da2",
        "colab": {
          "base_uri": "https://localhost:8080/"
        }
      },
      "execution_count": null,
      "outputs": [
        {
          "output_type": "stream",
          "name": "stdout",
          "text": [
            "Mounted at /content/drive\n"
          ]
        }
      ]
    }
  ],
  "metadata": {
    "colab": {
      "provenance": [],
      "include_colab_link": true
    },
    "kernelspec": {
      "display_name": "Python 3",
      "name": "python3"
    }
  },
  "nbformat": 4,
  "nbformat_minor": 0
}